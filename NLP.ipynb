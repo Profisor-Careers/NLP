{
 "cells": [
  {
   "cell_type": "markdown",
   "metadata": {},
   "source": [
    "# Profisor Services - Case Study "
   ]
  },
  {
   "cell_type": "markdown",
   "metadata": {},
   "source": [
    "## Client Situation:\n",
    "\n",
    "Our client, an Indian Healthcare firm, wants us to analyse social media data for understanding their patients’ concerns.  Driving a Natural Language Processing (NLP) solutions, we are expected to cleanse and cluster social media data obtained from their facebook page for text mining and deriving meaning from that data.  You are expected to identify noise elements that are not relevant for NLP and remove them (for example, stop-words, special characters, etc.) from the given data set and then cluster the data determining key topics that are discussed on the facebook page – for example, a creative topic modelling and or word cloud based solution."
   ]
  },
  {
   "cell_type": "markdown",
   "metadata": {},
   "source": [
    "## Approach:\n",
    "\n",
    "The case study is based on analysing social media data and the task is to understand pateint's concern on the basis of their reviews. As we don't have any category or label for the given dataset. So it is a unsupervised Machine Learning Problem. So, I will be using NLTK package for preprocessing the text data and will try to find the insights and how we can cluster the text."
   ]
  },
  {
   "cell_type": "code",
   "execution_count": 17,
   "metadata": {
    "collapsed": true
   },
   "outputs": [],
   "source": [
    "# Import all the necessary packages \n",
    "import pandas as pd\n",
    "import re\n",
    "\n",
    "#Preprocessing packages\n",
    "import nltk\n",
    "from nltk.tokenize import TreebankWordTokenizer\n",
    "from stop_words import get_stop_words\n",
    "from nltk.stem.porter import PorterStemmer\n",
    "from wordcloud import WordCloud\n",
    "from string import punctuation\n",
    "\n",
    "#Visulaization\n",
    "import matplotlib.pyplot as plt\n",
    "import seaborn as sns\n",
    "%matplotlib inline\n",
    "from wordcloud import WordCloud\n",
    "\n",
    "# Model Package\n",
    "from sklearn.feature_extraction.text import CountVectorizer, TfidfVectorizer\n",
    "from sklearn.cluster import KMeans\n"
   ]
  },
  {
   "cell_type": "code",
   "execution_count": 18,
   "metadata": {
    "collapsed": false
   },
   "outputs": [
    {
     "data": {
      "text/html": [
       "<div>\n",
       "<table border=\"1\" class=\"dataframe\">\n",
       "  <thead>\n",
       "    <tr style=\"text-align: right;\">\n",
       "      <th></th>\n",
       "      <th>comment_id</th>\n",
       "      <th>comment_message</th>\n",
       "    </tr>\n",
       "  </thead>\n",
       "  <tbody>\n",
       "    <tr>\n",
       "      <th>0</th>\n",
       "      <td>1538183672909402_1541895645871538</td>\n",
       "      <td>b'Thanks  big  fan here'</td>\n",
       "    </tr>\n",
       "    <tr>\n",
       "      <th>1</th>\n",
       "      <td>1540621789332257_1540637829330653</td>\n",
       "      <td>b'Reminded of trika butterfly'</td>\n",
       "    </tr>\n",
       "    <tr>\n",
       "      <th>2</th>\n",
       "      <td>1540621789332257_1540640095997093</td>\n",
       "      <td>b'BEST WISHES FOR CELEBRATING... 34 YEARS..OF ...</td>\n",
       "    </tr>\n",
       "    <tr>\n",
       "      <th>3</th>\n",
       "      <td>1540621789332257_1540672129327223</td>\n",
       "      <td>b'Congrats'</td>\n",
       "    </tr>\n",
       "    <tr>\n",
       "      <th>4</th>\n",
       "      <td>1540621789332257_1540753779319058</td>\n",
       "      <td>b'Congrats'</td>\n",
       "    </tr>\n",
       "  </tbody>\n",
       "</table>\n",
       "</div>"
      ],
      "text/plain": [
       "                          comment_id  \\\n",
       "0  1538183672909402_1541895645871538   \n",
       "1  1540621789332257_1540637829330653   \n",
       "2  1540621789332257_1540640095997093   \n",
       "3  1540621789332257_1540672129327223   \n",
       "4  1540621789332257_1540753779319058   \n",
       "\n",
       "                                     comment_message  \n",
       "0                           b'Thanks  big  fan here'  \n",
       "1                     b'Reminded of trika butterfly'  \n",
       "2  b'BEST WISHES FOR CELEBRATING... 34 YEARS..OF ...  \n",
       "3                                        b'Congrats'  \n",
       "4                                        b'Congrats'  "
      ]
     },
     "execution_count": 18,
     "metadata": {},
     "output_type": "execute_result"
    }
   ],
   "source": [
    "# Convert the csv file to dataframe\n",
    "df = pd.read_csv('/home/nikita/Documents/NLP-master/sentences.csv', encoding=\"UTF-8\")\n",
    "df.head()"
   ]
  },
  {
   "cell_type": "code",
   "execution_count": 19,
   "metadata": {
    "collapsed": false
   },
   "outputs": [
    {
     "data": {
      "text/html": [
       "<div>\n",
       "<table border=\"1\" class=\"dataframe\">\n",
       "  <thead>\n",
       "    <tr style=\"text-align: right;\">\n",
       "      <th></th>\n",
       "      <th>comment_id</th>\n",
       "      <th>comment_message</th>\n",
       "    </tr>\n",
       "  </thead>\n",
       "  <tbody>\n",
       "    <tr>\n",
       "      <th>0</th>\n",
       "      <td>1538183672909402_1541895645871538</td>\n",
       "      <td>b'Thanks  big  fan here'</td>\n",
       "    </tr>\n",
       "    <tr>\n",
       "      <th>1</th>\n",
       "      <td>1540621789332257_1540637829330653</td>\n",
       "      <td>b'Reminded of trika butterfly'</td>\n",
       "    </tr>\n",
       "    <tr>\n",
       "      <th>2</th>\n",
       "      <td>1540621789332257_1540640095997093</td>\n",
       "      <td>b'BEST WISHES FOR CELEBRATING... 34 YEARS..OF ...</td>\n",
       "    </tr>\n",
       "    <tr>\n",
       "      <th>3</th>\n",
       "      <td>1540621789332257_1540672129327223</td>\n",
       "      <td>b'Congrats'</td>\n",
       "    </tr>\n",
       "    <tr>\n",
       "      <th>4</th>\n",
       "      <td>1540621789332257_1540753779319058</td>\n",
       "      <td>b'Congrats'</td>\n",
       "    </tr>\n",
       "    <tr>\n",
       "      <th>5</th>\n",
       "      <td>1540621789332257_1540781092649660</td>\n",
       "      <td>b'Congratulations'</td>\n",
       "    </tr>\n",
       "    <tr>\n",
       "      <th>6</th>\n",
       "      <td>1540621789332257_1541729175888185</td>\n",
       "      <td>b'Congratulations Apollo hospital...'</td>\n",
       "    </tr>\n",
       "    <tr>\n",
       "      <th>7</th>\n",
       "      <td>1540621789332257_1541754942552275</td>\n",
       "      <td>b'I will never forget the first class treatmen...</td>\n",
       "    </tr>\n",
       "    <tr>\n",
       "      <th>8</th>\n",
       "      <td>1540621789332257_1542346075826495</td>\n",
       "      <td>b\"Best wishes..and I'm so happy that I was a p...</td>\n",
       "    </tr>\n",
       "    <tr>\n",
       "      <th>9</th>\n",
       "      <td>1538180652909704_1539762569418179</td>\n",
       "      <td>b'Good Information which will help in curing p...</td>\n",
       "    </tr>\n",
       "    <tr>\n",
       "      <th>10</th>\n",
       "      <td>1538178192909950_1538838052843964</td>\n",
       "      <td>b'Good information'</td>\n",
       "    </tr>\n",
       "    <tr>\n",
       "      <th>11</th>\n",
       "      <td>1538381189556317_1538381606222942</td>\n",
       "      <td>b':) &lt;3'</td>\n",
       "    </tr>\n",
       "    <tr>\n",
       "      <th>12</th>\n",
       "      <td>1538381189556317_1538412876219815</td>\n",
       "      <td>b'This  is only for brain...ah ...'</td>\n",
       "    </tr>\n",
       "    <tr>\n",
       "      <th>13</th>\n",
       "      <td>1538381189556317_1539176846143418</td>\n",
       "      <td>b'Irritating management'</td>\n",
       "    </tr>\n",
       "    <tr>\n",
       "      <th>14</th>\n",
       "      <td>1538173556243747_1538214119573024</td>\n",
       "      <td>b'thanks for keep up info'</td>\n",
       "    </tr>\n",
       "    <tr>\n",
       "      <th>15</th>\n",
       "      <td>1537256943002075_1537257083002061</td>\n",
       "      <td>b':) &lt;3'</td>\n",
       "    </tr>\n",
       "    <tr>\n",
       "      <th>16</th>\n",
       "      <td>1533042046756898_1536145229779913</td>\n",
       "      <td>b'posts  about  are why  everyone likes social...</td>\n",
       "    </tr>\n",
       "    <tr>\n",
       "      <th>17</th>\n",
       "      <td>1533040316757071_1534603559934080</td>\n",
       "      <td>b'Important Info !'</td>\n",
       "    </tr>\n",
       "    <tr>\n",
       "      <th>18</th>\n",
       "      <td>1533040316757071_1534965379897898</td>\n",
       "      <td>b\"Apollo I'm coming soon\"</td>\n",
       "    </tr>\n",
       "    <tr>\n",
       "      <th>19</th>\n",
       "      <td>1533051526755950_1534643473263422</td>\n",
       "      <td>b'Great!  I love'</td>\n",
       "    </tr>\n",
       "    <tr>\n",
       "      <th>20</th>\n",
       "      <td>1533051526755950_1538090752918694</td>\n",
       "      <td>b'Good Healthy Tips to beat the rains .........'</td>\n",
       "    </tr>\n",
       "    <tr>\n",
       "      <th>21</th>\n",
       "      <td>1533030356758067_1533145436746559</td>\n",
       "      <td>b'pls i want to make enquiry for my baby'</td>\n",
       "    </tr>\n",
       "    <tr>\n",
       "      <th>22</th>\n",
       "      <td>1524251377635965_1532417676819335</td>\n",
       "      <td>b\"Hi Apollo Doctor's ! I have had a very BAD e...</td>\n",
       "    </tr>\n",
       "    <tr>\n",
       "      <th>23</th>\n",
       "      <td>1533209026740200_1533212710073165</td>\n",
       "      <td>b\"Congratulations ma'am\"</td>\n",
       "    </tr>\n",
       "    <tr>\n",
       "      <th>24</th>\n",
       "      <td>1533209026740200_1533221033405666</td>\n",
       "      <td>b'Congratulations madam'</td>\n",
       "    </tr>\n",
       "    <tr>\n",
       "      <th>25</th>\n",
       "      <td>1533209026740200_1533223163405453</td>\n",
       "      <td>b\"Congrats ma'am., you deserve the best..\"</td>\n",
       "    </tr>\n",
       "    <tr>\n",
       "      <th>26</th>\n",
       "      <td>1533209026740200_1533223333405436</td>\n",
       "      <td>b'Congratulations Madam \\xf0\\x9f\\x92\\x90Stay B...</td>\n",
       "    </tr>\n",
       "    <tr>\n",
       "      <th>27</th>\n",
       "      <td>1533209026740200_1533685833359186</td>\n",
       "      <td>b\"Congratulations Ma'm\"</td>\n",
       "    </tr>\n",
       "    <tr>\n",
       "      <th>28</th>\n",
       "      <td>1533209026740200_1534076563320113</td>\n",
       "      <td>b'Congratulations Madam....'</td>\n",
       "    </tr>\n",
       "    <tr>\n",
       "      <th>29</th>\n",
       "      <td>1533209026740200_1536252303102539</td>\n",
       "      <td>b'Hearty Congratulations!!'</td>\n",
       "    </tr>\n",
       "    <tr>\n",
       "      <th>...</th>\n",
       "      <td>...</td>\n",
       "      <td>...</td>\n",
       "    </tr>\n",
       "    <tr>\n",
       "      <th>5304</th>\n",
       "      <td>855089674552142_855153921212384</td>\n",
       "      <td>b'B is the,answer'</td>\n",
       "    </tr>\n",
       "    <tr>\n",
       "      <th>5305</th>\n",
       "      <td>855089674552142_855155004545609</td>\n",
       "      <td>b'B. Looking at your feet'</td>\n",
       "    </tr>\n",
       "    <tr>\n",
       "      <th>5306</th>\n",
       "      <td>855089674552142_855155237878919</td>\n",
       "      <td>b'B. Looking at your feet'</td>\n",
       "    </tr>\n",
       "    <tr>\n",
       "      <th>5307</th>\n",
       "      <td>855089674552142_855155274545582</td>\n",
       "      <td>b'B. Looking at your feet'</td>\n",
       "    </tr>\n",
       "    <tr>\n",
       "      <th>5308</th>\n",
       "      <td>855089674552142_855155484545561</td>\n",
       "      <td>b'B) looking at your feet'</td>\n",
       "    </tr>\n",
       "    <tr>\n",
       "      <th>5309</th>\n",
       "      <td>855089674552142_855155664545543</td>\n",
       "      <td>b'Ans)(B)  Looking at your feet \\n #win'</td>\n",
       "    </tr>\n",
       "    <tr>\n",
       "      <th>5310</th>\n",
       "      <td>855089674552142_855156281212148</td>\n",
       "      <td>b'Ans.  B. Looking at your feet #contest'</td>\n",
       "    </tr>\n",
       "    <tr>\n",
       "      <th>5311</th>\n",
       "      <td>855089674552142_855156814545428</td>\n",
       "      <td>b'B. Looking at your feet'</td>\n",
       "    </tr>\n",
       "    <tr>\n",
       "      <th>5312</th>\n",
       "      <td>855089674552142_855157044545405</td>\n",
       "      <td>b'Ans.B. Looking at your feet #contest'</td>\n",
       "    </tr>\n",
       "    <tr>\n",
       "      <th>5313</th>\n",
       "      <td>855089674552142_855157584545351</td>\n",
       "      <td>b'Join frnds \\nRinku Sharma Priyanka Sharma Ta...</td>\n",
       "    </tr>\n",
       "    <tr>\n",
       "      <th>5314</th>\n",
       "      <td>855089674552142_855157797878663</td>\n",
       "      <td>b'Offcourse B. Looking at your feet..'</td>\n",
       "    </tr>\n",
       "    <tr>\n",
       "      <th>5315</th>\n",
       "      <td>855089674552142_855158141211962</td>\n",
       "      <td>b'B'</td>\n",
       "    </tr>\n",
       "    <tr>\n",
       "      <th>5316</th>\n",
       "      <td>855089674552142_855158207878622</td>\n",
       "      <td>b'Ans.  B. Looking at your feet #contest'</td>\n",
       "    </tr>\n",
       "    <tr>\n",
       "      <th>5317</th>\n",
       "      <td>855089674552142_855158444545265</td>\n",
       "      <td>b'Join here friends\\n Antara Chatterjee\\nZeena...</td>\n",
       "    </tr>\n",
       "    <tr>\n",
       "      <th>5318</th>\n",
       "      <td>855089674552142_855158497878593</td>\n",
       "      <td>b'B) Looking at your feet'</td>\n",
       "    </tr>\n",
       "    <tr>\n",
       "      <th>5319</th>\n",
       "      <td>855089674552142_855159071211869</td>\n",
       "      <td>b'B. Looking at your feet'</td>\n",
       "    </tr>\n",
       "    <tr>\n",
       "      <th>5320</th>\n",
       "      <td>855089674552142_855159157878527</td>\n",
       "      <td>b'B. Looking at your feet'</td>\n",
       "    </tr>\n",
       "    <tr>\n",
       "      <th>5321</th>\n",
       "      <td>855089674552142_855159517878491</td>\n",
       "      <td>b'B. Looking at your feet'</td>\n",
       "    </tr>\n",
       "    <tr>\n",
       "      <th>5322</th>\n",
       "      <td>855089674552142_855159537878489</td>\n",
       "      <td>b'B'</td>\n",
       "    </tr>\n",
       "    <tr>\n",
       "      <th>5323</th>\n",
       "      <td>855089674552142_855160117878431</td>\n",
       "      <td>b'B. Looking at your feet'</td>\n",
       "    </tr>\n",
       "    <tr>\n",
       "      <th>5324</th>\n",
       "      <td>855089674552142_855160661211710</td>\n",
       "      <td>b'B) Looking at your feet #win'</td>\n",
       "    </tr>\n",
       "    <tr>\n",
       "      <th>5325</th>\n",
       "      <td>855089674552142_855160771211699</td>\n",
       "      <td>b'B. Looking at your feet'</td>\n",
       "    </tr>\n",
       "    <tr>\n",
       "      <th>5326</th>\n",
       "      <td>855089674552142_855161021211674</td>\n",
       "      <td>b'B looking at ur feet.'</td>\n",
       "    </tr>\n",
       "    <tr>\n",
       "      <th>5327</th>\n",
       "      <td>855089674552142_855161457878297</td>\n",
       "      <td>b'B.  Looking at your feet'</td>\n",
       "    </tr>\n",
       "    <tr>\n",
       "      <th>5328</th>\n",
       "      <td>855089674552142_855161521211624</td>\n",
       "      <td>b'Rinku Sharma  Krishma Sadotra'</td>\n",
       "    </tr>\n",
       "    <tr>\n",
       "      <th>5329</th>\n",
       "      <td>855089674552142_855162597878183</td>\n",
       "      <td>b'Keeping ur arms on side'</td>\n",
       "    </tr>\n",
       "    <tr>\n",
       "      <th>5330</th>\n",
       "      <td>855089674552142_855162631211513</td>\n",
       "      <td>b'B'</td>\n",
       "    </tr>\n",
       "    <tr>\n",
       "      <th>5331</th>\n",
       "      <td>855089674552142_855162884544821</td>\n",
       "      <td>b'B. Looking at your feet'</td>\n",
       "    </tr>\n",
       "    <tr>\n",
       "      <th>5332</th>\n",
       "      <td>855089674552142_855163371211439</td>\n",
       "      <td>b'Ans. B. Looking at your feet # contest'</td>\n",
       "    </tr>\n",
       "    <tr>\n",
       "      <th>5333</th>\n",
       "      <td>855089674552142_855163854544724</td>\n",
       "      <td>b'B. Looking at your feet'</td>\n",
       "    </tr>\n",
       "  </tbody>\n",
       "</table>\n",
       "<p>5334 rows × 2 columns</p>\n",
       "</div>"
      ],
      "text/plain": [
       "                             comment_id  \\\n",
       "0     1538183672909402_1541895645871538   \n",
       "1     1540621789332257_1540637829330653   \n",
       "2     1540621789332257_1540640095997093   \n",
       "3     1540621789332257_1540672129327223   \n",
       "4     1540621789332257_1540753779319058   \n",
       "5     1540621789332257_1540781092649660   \n",
       "6     1540621789332257_1541729175888185   \n",
       "7     1540621789332257_1541754942552275   \n",
       "8     1540621789332257_1542346075826495   \n",
       "9     1538180652909704_1539762569418179   \n",
       "10    1538178192909950_1538838052843964   \n",
       "11    1538381189556317_1538381606222942   \n",
       "12    1538381189556317_1538412876219815   \n",
       "13    1538381189556317_1539176846143418   \n",
       "14    1538173556243747_1538214119573024   \n",
       "15    1537256943002075_1537257083002061   \n",
       "16    1533042046756898_1536145229779913   \n",
       "17    1533040316757071_1534603559934080   \n",
       "18    1533040316757071_1534965379897898   \n",
       "19    1533051526755950_1534643473263422   \n",
       "20    1533051526755950_1538090752918694   \n",
       "21    1533030356758067_1533145436746559   \n",
       "22    1524251377635965_1532417676819335   \n",
       "23    1533209026740200_1533212710073165   \n",
       "24    1533209026740200_1533221033405666   \n",
       "25    1533209026740200_1533223163405453   \n",
       "26    1533209026740200_1533223333405436   \n",
       "27    1533209026740200_1533685833359186   \n",
       "28    1533209026740200_1534076563320113   \n",
       "29    1533209026740200_1536252303102539   \n",
       "...                                 ...   \n",
       "5304    855089674552142_855153921212384   \n",
       "5305    855089674552142_855155004545609   \n",
       "5306    855089674552142_855155237878919   \n",
       "5307    855089674552142_855155274545582   \n",
       "5308    855089674552142_855155484545561   \n",
       "5309    855089674552142_855155664545543   \n",
       "5310    855089674552142_855156281212148   \n",
       "5311    855089674552142_855156814545428   \n",
       "5312    855089674552142_855157044545405   \n",
       "5313    855089674552142_855157584545351   \n",
       "5314    855089674552142_855157797878663   \n",
       "5315    855089674552142_855158141211962   \n",
       "5316    855089674552142_855158207878622   \n",
       "5317    855089674552142_855158444545265   \n",
       "5318    855089674552142_855158497878593   \n",
       "5319    855089674552142_855159071211869   \n",
       "5320    855089674552142_855159157878527   \n",
       "5321    855089674552142_855159517878491   \n",
       "5322    855089674552142_855159537878489   \n",
       "5323    855089674552142_855160117878431   \n",
       "5324    855089674552142_855160661211710   \n",
       "5325    855089674552142_855160771211699   \n",
       "5326    855089674552142_855161021211674   \n",
       "5327    855089674552142_855161457878297   \n",
       "5328    855089674552142_855161521211624   \n",
       "5329    855089674552142_855162597878183   \n",
       "5330    855089674552142_855162631211513   \n",
       "5331    855089674552142_855162884544821   \n",
       "5332    855089674552142_855163371211439   \n",
       "5333    855089674552142_855163854544724   \n",
       "\n",
       "                                        comment_message  \n",
       "0                              b'Thanks  big  fan here'  \n",
       "1                        b'Reminded of trika butterfly'  \n",
       "2     b'BEST WISHES FOR CELEBRATING... 34 YEARS..OF ...  \n",
       "3                                           b'Congrats'  \n",
       "4                                           b'Congrats'  \n",
       "5                                    b'Congratulations'  \n",
       "6                 b'Congratulations Apollo hospital...'  \n",
       "7     b'I will never forget the first class treatmen...  \n",
       "8     b\"Best wishes..and I'm so happy that I was a p...  \n",
       "9     b'Good Information which will help in curing p...  \n",
       "10                                  b'Good information'  \n",
       "11                                             b':) <3'  \n",
       "12                  b'This  is only for brain...ah ...'  \n",
       "13                             b'Irritating management'  \n",
       "14                           b'thanks for keep up info'  \n",
       "15                                             b':) <3'  \n",
       "16    b'posts  about  are why  everyone likes social...  \n",
       "17                                  b'Important Info !'  \n",
       "18                            b\"Apollo I'm coming soon\"  \n",
       "19                                    b'Great!  I love'  \n",
       "20     b'Good Healthy Tips to beat the rains .........'  \n",
       "21            b'pls i want to make enquiry for my baby'  \n",
       "22    b\"Hi Apollo Doctor's ! I have had a very BAD e...  \n",
       "23                             b\"Congratulations ma'am\"  \n",
       "24                             b'Congratulations madam'  \n",
       "25           b\"Congrats ma'am., you deserve the best..\"  \n",
       "26    b'Congratulations Madam \\xf0\\x9f\\x92\\x90Stay B...  \n",
       "27                              b\"Congratulations Ma'm\"  \n",
       "28                         b'Congratulations Madam....'  \n",
       "29                          b'Hearty Congratulations!!'  \n",
       "...                                                 ...  \n",
       "5304                                 b'B is the,answer'  \n",
       "5305                         b'B. Looking at your feet'  \n",
       "5306                         b'B. Looking at your feet'  \n",
       "5307                         b'B. Looking at your feet'  \n",
       "5308                         b'B) looking at your feet'  \n",
       "5309           b'Ans)(B)  Looking at your feet \\n #win'  \n",
       "5310          b'Ans.  B. Looking at your feet #contest'  \n",
       "5311                         b'B. Looking at your feet'  \n",
       "5312            b'Ans.B. Looking at your feet #contest'  \n",
       "5313  b'Join frnds \\nRinku Sharma Priyanka Sharma Ta...  \n",
       "5314             b'Offcourse B. Looking at your feet..'  \n",
       "5315                                               b'B'  \n",
       "5316          b'Ans.  B. Looking at your feet #contest'  \n",
       "5317  b'Join here friends\\n Antara Chatterjee\\nZeena...  \n",
       "5318                         b'B) Looking at your feet'  \n",
       "5319                         b'B. Looking at your feet'  \n",
       "5320                         b'B. Looking at your feet'  \n",
       "5321                         b'B. Looking at your feet'  \n",
       "5322                                               b'B'  \n",
       "5323                         b'B. Looking at your feet'  \n",
       "5324                    b'B) Looking at your feet #win'  \n",
       "5325                         b'B. Looking at your feet'  \n",
       "5326                           b'B looking at ur feet.'  \n",
       "5327                        b'B.  Looking at your feet'  \n",
       "5328                   b'Rinku Sharma  Krishma Sadotra'  \n",
       "5329                         b'Keeping ur arms on side'  \n",
       "5330                                               b'B'  \n",
       "5331                         b'B. Looking at your feet'  \n",
       "5332          b'Ans. B. Looking at your feet # contest'  \n",
       "5333                         b'B. Looking at your feet'  \n",
       "\n",
       "[5334 rows x 2 columns]"
      ]
     },
     "execution_count": 19,
     "metadata": {},
     "output_type": "execute_result"
    }
   ],
   "source": [
    "# Understanding Text Data\n",
    "df"
   ]
  },
  {
   "cell_type": "code",
   "execution_count": 20,
   "metadata": {
    "collapsed": false
   },
   "outputs": [
    {
     "name": "stdout",
     "output_type": "stream",
     "text": [
      "<class 'pandas.core.frame.DataFrame'>\n",
      "RangeIndex: 5334 entries, 0 to 5333\n",
      "Data columns (total 2 columns):\n",
      "comment_id         5334 non-null object\n",
      "comment_message    5334 non-null object\n",
      "dtypes: object(2)\n",
      "memory usage: 83.4+ KB\n"
     ]
    }
   ],
   "source": [
    "df.info()"
   ]
  },
  {
   "cell_type": "markdown",
   "metadata": {},
   "source": [
    "__The dataset has 5334 for rows and two columns. 1st column is comment_id and 2nd column is comment_message__\n",
    "\n",
    "In comment_message column we have a 'b' unicode before text message parenthases. So we need to clean the text and remove the unicode b' . "
   ]
  },
  {
   "cell_type": "code",
   "execution_count": 21,
   "metadata": {
    "collapsed": false
   },
   "outputs": [],
   "source": [
    "# Remove b' unicode from comment_message column\n",
    "df['comment_message'] = df['comment_message'].apply(lambda x: x[1:])"
   ]
  },
  {
   "cell_type": "code",
   "execution_count": 46,
   "metadata": {
    "collapsed": false
   },
   "outputs": [
    {
     "data": {
      "text/html": [
       "<div>\n",
       "<table border=\"1\" class=\"dataframe\">\n",
       "  <thead>\n",
       "    <tr style=\"text-align: right;\">\n",
       "      <th></th>\n",
       "      <th>comment_id</th>\n",
       "      <th>comment_message</th>\n",
       "    </tr>\n",
       "  </thead>\n",
       "  <tbody>\n",
       "    <tr>\n",
       "      <th>0</th>\n",
       "      <td>1538183672909402_1541895645871538</td>\n",
       "      <td>'Thanks  big  fan here'</td>\n",
       "    </tr>\n",
       "    <tr>\n",
       "      <th>1</th>\n",
       "      <td>1540621789332257_1540637829330653</td>\n",
       "      <td>'Reminded of trika butterfly'</td>\n",
       "    </tr>\n",
       "    <tr>\n",
       "      <th>2</th>\n",
       "      <td>1540621789332257_1540640095997093</td>\n",
       "      <td>'BEST WISHES FOR CELEBRATING... 34 YEARS..OF T...</td>\n",
       "    </tr>\n",
       "    <tr>\n",
       "      <th>3</th>\n",
       "      <td>1540621789332257_1540672129327223</td>\n",
       "      <td>'Congrats'</td>\n",
       "    </tr>\n",
       "    <tr>\n",
       "      <th>4</th>\n",
       "      <td>1540621789332257_1540753779319058</td>\n",
       "      <td>'Congrats'</td>\n",
       "    </tr>\n",
       "    <tr>\n",
       "      <th>5</th>\n",
       "      <td>1540621789332257_1540781092649660</td>\n",
       "      <td>'Congratulations'</td>\n",
       "    </tr>\n",
       "    <tr>\n",
       "      <th>6</th>\n",
       "      <td>1540621789332257_1541729175888185</td>\n",
       "      <td>'Congratulations Apollo hospital...'</td>\n",
       "    </tr>\n",
       "    <tr>\n",
       "      <th>7</th>\n",
       "      <td>1540621789332257_1541754942552275</td>\n",
       "      <td>'I will never forget the first class treatment...</td>\n",
       "    </tr>\n",
       "    <tr>\n",
       "      <th>8</th>\n",
       "      <td>1540621789332257_1542346075826495</td>\n",
       "      <td>\"Best wishes..and I'm so happy that I was a pa...</td>\n",
       "    </tr>\n",
       "    <tr>\n",
       "      <th>9</th>\n",
       "      <td>1538180652909704_1539762569418179</td>\n",
       "      <td>'Good Information which will help in curing pr...</td>\n",
       "    </tr>\n",
       "    <tr>\n",
       "      <th>10</th>\n",
       "      <td>1538178192909950_1538838052843964</td>\n",
       "      <td>'Good information'</td>\n",
       "    </tr>\n",
       "    <tr>\n",
       "      <th>11</th>\n",
       "      <td>1538381189556317_1538381606222942</td>\n",
       "      <td>':) &lt;3'</td>\n",
       "    </tr>\n",
       "    <tr>\n",
       "      <th>12</th>\n",
       "      <td>1538381189556317_1538412876219815</td>\n",
       "      <td>'This  is only for brain...ah ...'</td>\n",
       "    </tr>\n",
       "    <tr>\n",
       "      <th>13</th>\n",
       "      <td>1538381189556317_1539176846143418</td>\n",
       "      <td>'Irritating management'</td>\n",
       "    </tr>\n",
       "    <tr>\n",
       "      <th>14</th>\n",
       "      <td>1538173556243747_1538214119573024</td>\n",
       "      <td>'thanks for keep up info'</td>\n",
       "    </tr>\n",
       "    <tr>\n",
       "      <th>15</th>\n",
       "      <td>1537256943002075_1537257083002061</td>\n",
       "      <td>':) &lt;3'</td>\n",
       "    </tr>\n",
       "    <tr>\n",
       "      <th>16</th>\n",
       "      <td>1533042046756898_1536145229779913</td>\n",
       "      <td>'posts  about  are why  everyone likes social ...</td>\n",
       "    </tr>\n",
       "    <tr>\n",
       "      <th>17</th>\n",
       "      <td>1533040316757071_1534603559934080</td>\n",
       "      <td>'Important Info !'</td>\n",
       "    </tr>\n",
       "    <tr>\n",
       "      <th>18</th>\n",
       "      <td>1533040316757071_1534965379897898</td>\n",
       "      <td>\"Apollo I'm coming soon\"</td>\n",
       "    </tr>\n",
       "    <tr>\n",
       "      <th>19</th>\n",
       "      <td>1533051526755950_1534643473263422</td>\n",
       "      <td>'Great!  I love'</td>\n",
       "    </tr>\n",
       "  </tbody>\n",
       "</table>\n",
       "</div>"
      ],
      "text/plain": [
       "                           comment_id  \\\n",
       "0   1538183672909402_1541895645871538   \n",
       "1   1540621789332257_1540637829330653   \n",
       "2   1540621789332257_1540640095997093   \n",
       "3   1540621789332257_1540672129327223   \n",
       "4   1540621789332257_1540753779319058   \n",
       "5   1540621789332257_1540781092649660   \n",
       "6   1540621789332257_1541729175888185   \n",
       "7   1540621789332257_1541754942552275   \n",
       "8   1540621789332257_1542346075826495   \n",
       "9   1538180652909704_1539762569418179   \n",
       "10  1538178192909950_1538838052843964   \n",
       "11  1538381189556317_1538381606222942   \n",
       "12  1538381189556317_1538412876219815   \n",
       "13  1538381189556317_1539176846143418   \n",
       "14  1538173556243747_1538214119573024   \n",
       "15  1537256943002075_1537257083002061   \n",
       "16  1533042046756898_1536145229779913   \n",
       "17  1533040316757071_1534603559934080   \n",
       "18  1533040316757071_1534965379897898   \n",
       "19  1533051526755950_1534643473263422   \n",
       "\n",
       "                                      comment_message  \n",
       "0                             'Thanks  big  fan here'  \n",
       "1                       'Reminded of trika butterfly'  \n",
       "2   'BEST WISHES FOR CELEBRATING... 34 YEARS..OF T...  \n",
       "3                                          'Congrats'  \n",
       "4                                          'Congrats'  \n",
       "5                                   'Congratulations'  \n",
       "6                'Congratulations Apollo hospital...'  \n",
       "7   'I will never forget the first class treatment...  \n",
       "8   \"Best wishes..and I'm so happy that I was a pa...  \n",
       "9   'Good Information which will help in curing pr...  \n",
       "10                                 'Good information'  \n",
       "11                                            ':) <3'  \n",
       "12                 'This  is only for brain...ah ...'  \n",
       "13                            'Irritating management'  \n",
       "14                          'thanks for keep up info'  \n",
       "15                                            ':) <3'  \n",
       "16  'posts  about  are why  everyone likes social ...  \n",
       "17                                 'Important Info !'  \n",
       "18                           \"Apollo I'm coming soon\"  \n",
       "19                                   'Great!  I love'  "
      ]
     },
     "execution_count": 46,
     "metadata": {},
     "output_type": "execute_result"
    }
   ],
   "source": [
    "df.head(20)"
   ]
  },
  {
   "cell_type": "code",
   "execution_count": 23,
   "metadata": {
    "collapsed": false
   },
   "outputs": [
    {
     "data": {
      "text/html": [
       "<div>\n",
       "<table border=\"1\" class=\"dataframe\">\n",
       "  <thead>\n",
       "    <tr style=\"text-align: right;\">\n",
       "      <th></th>\n",
       "      <th>comment_id</th>\n",
       "      <th>comment_message</th>\n",
       "    </tr>\n",
       "  </thead>\n",
       "  <tbody>\n",
       "    <tr>\n",
       "      <th>count</th>\n",
       "      <td>5334</td>\n",
       "      <td>5334</td>\n",
       "    </tr>\n",
       "    <tr>\n",
       "      <th>unique</th>\n",
       "      <td>5334</td>\n",
       "      <td>3497</td>\n",
       "    </tr>\n",
       "    <tr>\n",
       "      <th>top</th>\n",
       "      <td>933282400066202_933698950024547</td>\n",
       "      <td>'A'</td>\n",
       "    </tr>\n",
       "    <tr>\n",
       "      <th>freq</th>\n",
       "      <td>1</td>\n",
       "      <td>122</td>\n",
       "    </tr>\n",
       "  </tbody>\n",
       "</table>\n",
       "</div>"
      ],
      "text/plain": [
       "                             comment_id comment_message\n",
       "count                              5334            5334\n",
       "unique                             5334            3497\n",
       "top     933282400066202_933698950024547             'A'\n",
       "freq                                  1             122"
      ]
     },
     "execution_count": 23,
     "metadata": {},
     "output_type": "execute_result"
    }
   ],
   "source": [
    "df.describe()"
   ]
  },
  {
   "cell_type": "markdown",
   "metadata": {},
   "source": [
    "__df.describe() gives the insights of the text dataset. The total messages are 5334 out of which only 3497 are unique messages.__"
   ]
  },
  {
   "cell_type": "markdown",
   "metadata": {},
   "source": [
    "Another important point to notice before proceeding with NLP preprocessing steps is that the given test data contains special characters i.e Emojis so we need to deal with them and will try replacing them with \"\" (empty string). "
   ]
  },
  {
   "cell_type": "code",
   "execution_count": 24,
   "metadata": {
    "collapsed": false
   },
   "outputs": [
    {
     "data": {
      "text/plain": [
       "u\"'Congratulations Madam \\\\xf0\\\\x9f\\\\x92\\\\x90Stay Blessed:)'\""
      ]
     },
     "execution_count": 24,
     "metadata": {},
     "output_type": "execute_result"
    }
   ],
   "source": [
    "#Creating a string of special characters used i.e. Emoji\n",
    "tmp_str = df.iloc[26]['comment_message']\n",
    "tmp_str"
   ]
  },
  {
   "cell_type": "code",
   "execution_count": 25,
   "metadata": {
    "collapsed": true
   },
   "outputs": [],
   "source": [
    "# Using Regex to remove emojis\n",
    "def replace_emojis(in_str):\n",
    "    return re.sub(r'\\\\x[0-9A-Fa-f]*','', in_str)"
   ]
  },
  {
   "cell_type": "code",
   "execution_count": 26,
   "metadata": {
    "collapsed": false
   },
   "outputs": [
    {
     "data": {
      "text/plain": [
       "u\"'Congratulations Madam Stay Blessed:)'\""
      ]
     },
     "execution_count": 26,
     "metadata": {},
     "output_type": "execute_result"
    }
   ],
   "source": [
    "replace_emojis(tmp_str)"
   ]
  },
  {
   "cell_type": "code",
   "execution_count": 27,
   "metadata": {
    "collapsed": true
   },
   "outputs": [],
   "source": [
    "# Applying the function on the comment_message column.\n",
    "df['comment_message'] = df['comment_message'].apply(replace_emojis)"
   ]
  },
  {
   "cell_type": "code",
   "execution_count": 28,
   "metadata": {
    "collapsed": false
   },
   "outputs": [],
   "source": [
    "# df['comment_message'] = map(lambda x: x.decode('utf-8').replace(u'\\xf1', 'n'), df['comment_message'].str)"
   ]
  },
  {
   "cell_type": "markdown",
   "metadata": {},
   "source": [
    "### Choosing the comment_message as feature and dropping comment_id column which is not useful for analysing the text data."
   ]
  },
  {
   "cell_type": "code",
   "execution_count": 29,
   "metadata": {
    "collapsed": false
   },
   "outputs": [],
   "source": [
    "X = df['comment_message']"
   ]
  },
  {
   "cell_type": "code",
   "execution_count": 30,
   "metadata": {
    "collapsed": false
   },
   "outputs": [
    {
     "data": {
      "text/plain": [
       "0                                 'Thanks  big  fan here'\n",
       "1                           'Reminded of trika butterfly'\n",
       "2       'BEST WISHES FOR CELEBRATING... 34 YEARS..OF T...\n",
       "3                                              'Congrats'\n",
       "4                                              'Congrats'\n",
       "5                                       'Congratulations'\n",
       "6                    'Congratulations Apollo hospital...'\n",
       "7       'I will never forget the first class treatment...\n",
       "8       \"Best wishes..and I'm so happy that I was a pa...\n",
       "9       'Good Information which will help in curing pr...\n",
       "10                                     'Good information'\n",
       "11                                                ':) <3'\n",
       "12                     'This  is only for brain...ah ...'\n",
       "13                                'Irritating management'\n",
       "14                              'thanks for keep up info'\n",
       "15                                                ':) <3'\n",
       "16      'posts  about  are why  everyone likes social ...\n",
       "17                                     'Important Info !'\n",
       "18                               \"Apollo I'm coming soon\"\n",
       "19                                       'Great!  I love'\n",
       "20        'Good Healthy Tips to beat the rains .........'\n",
       "21               'pls i want to make enquiry for my baby'\n",
       "22      \"Hi Apollo Doctor's ! I have had a very BAD ex...\n",
       "23                                \"Congratulations ma'am\"\n",
       "24                                'Congratulations madam'\n",
       "25              \"Congrats ma'am., you deserve the best..\"\n",
       "26                 'Congratulations Madam Stay Blessed:)'\n",
       "27                                 \"Congratulations Ma'm\"\n",
       "28                            'Congratulations Madam....'\n",
       "29                             'Hearty Congratulations!!'\n",
       "                              ...                        \n",
       "5304                                    'B is the,answer'\n",
       "5305                            'B. Looking at your feet'\n",
       "5306                            'B. Looking at your feet'\n",
       "5307                            'B. Looking at your feet'\n",
       "5308                            'B) looking at your feet'\n",
       "5309              'Ans)(B)  Looking at your feet \\n #win'\n",
       "5310             'Ans.  B. Looking at your feet #contest'\n",
       "5311                            'B. Looking at your feet'\n",
       "5312               'Ans.B. Looking at your feet #contest'\n",
       "5313    'Join frnds \\nRinku Sharma Priyanka Sharma Tan...\n",
       "5314                'Offcourse B. Looking at your feet..'\n",
       "5315                                                  'B'\n",
       "5316             'Ans.  B. Looking at your feet #contest'\n",
       "5317    'Join here friends\\n Antara Chatterjee\\nZeenat...\n",
       "5318                            'B) Looking at your feet'\n",
       "5319                            'B. Looking at your feet'\n",
       "5320                            'B. Looking at your feet'\n",
       "5321                            'B. Looking at your feet'\n",
       "5322                                                  'B'\n",
       "5323                            'B. Looking at your feet'\n",
       "5324                       'B) Looking at your feet #win'\n",
       "5325                            'B. Looking at your feet'\n",
       "5326                              'B looking at ur feet.'\n",
       "5327                           'B.  Looking at your feet'\n",
       "5328                      'Rinku Sharma  Krishma Sadotra'\n",
       "5329                            'Keeping ur arms on side'\n",
       "5330                                                  'B'\n",
       "5331                            'B. Looking at your feet'\n",
       "5332             'Ans. B. Looking at your feet # contest'\n",
       "5333                            'B. Looking at your feet'\n",
       "Name: comment_message, dtype: object"
      ]
     },
     "execution_count": 30,
     "metadata": {},
     "output_type": "execute_result"
    }
   ],
   "source": [
    "X"
   ]
  },
  {
   "cell_type": "markdown",
   "metadata": {},
   "source": [
    "For preprocessing the feature column, First convert each sentence into token by using tokenization and then remove the english stop words and then take only root words and remove similar meaning words by using stemming."
   ]
  },
  {
   "cell_type": "code",
   "execution_count": 31,
   "metadata": {
    "collapsed": false
   },
   "outputs": [
    {
     "data": {
      "text/plain": [
       "0                                      ['thank, big, fan]\n",
       "1                             ['remind, trika, butterfli]\n",
       "2       ['best, wish, for, celebr, ..., 34, years..of,...\n",
       "3                                              ['congrat]\n",
       "4                                              ['congrat]\n",
       "5                                            ['congratul]\n",
       "6                       ['congratul, apollo, hospit, ...]\n",
       "7       ['I, will, never, forget, first, class, treatm...\n",
       "8       [``, best, wishes..and, I, 'm, happi, I, part,...\n",
       "9       ['good, inform, will, help, cure, problem, bon...\n",
       "10                                        ['good, inform]\n",
       "11                                                    [3]\n",
       "12                            ['thi, brain, ..., ah, ...]\n",
       "13                                        ['irrit, manag]\n",
       "14                                   ['thank, keep, info]\n",
       "15                                                    [3]\n",
       "16                  ['post, everyon, like, social, media]\n",
       "17                                        ['import, info]\n",
       "18                    [``, apollo, I, 'm, come, soon, '']\n",
       "19                                      ['great, I, love]\n",
       "20       ['good, healthi, tip, beat, rain, ..., ..., ...]\n",
       "21                       ['pl, want, make, enquiri, babi]\n",
       "22      [``, Hi, apollo, doctor, 's, I, bad, experi, d...\n",
       "23                             [``, congratul, ma'am, '']\n",
       "24                                    ['congratul, madam]\n",
       "25              [``, congrat, ma'am., deserv, best.., '']\n",
       "26                       ['congratul, madam, stay, bless]\n",
       "27                            [``, congratul, Ma, 'm, '']\n",
       "28                               ['congratul, madam, ...]\n",
       "29                                   ['hearti, congratul]\n",
       "                              ...                        \n",
       "5304                                         ['B, answer]\n",
       "5305                                    ['b., look, feet]\n",
       "5306                                    ['b., look, feet]\n",
       "5307                                    ['b., look, feet]\n",
       "5308                                     ['B, look, feet]\n",
       "5309                        ['an, B, look, feet, \\n, win]\n",
       "5310                     ['ans., B., look, feet, contest]\n",
       "5311                                    ['b., look, feet]\n",
       "5312                       ['ans.b., look, feet, contest]\n",
       "5313    ['join, frnd, \\nrinku, sharma, priyanka, sharm...\n",
       "5314                        ['offcours, B., look, feet..]\n",
       "5315                                                 ['B]\n",
       "5316                     ['ans., B., look, feet, contest]\n",
       "5317    ['join, friends\\n, antara, chatterjee\\nzeenat,...\n",
       "5318                                     ['B, look, feet]\n",
       "5319                                    ['b., look, feet]\n",
       "5320                                    ['b., look, feet]\n",
       "5321                                    ['b., look, feet]\n",
       "5322                                                 ['B]\n",
       "5323                                    ['b., look, feet]\n",
       "5324                                ['B, look, feet, win]\n",
       "5325                                    ['b., look, feet]\n",
       "5326                                 ['B, look, ur, feet]\n",
       "5327                                    ['b., look, feet]\n",
       "5328                   ['rinku, sharma, krishma, sadotra]\n",
       "5329                               ['keep, ur, arm, side]\n",
       "5330                                                 ['B]\n",
       "5331                                    ['b., look, feet]\n",
       "5332                     ['ans., B., look, feet, contest]\n",
       "5333                                    ['b., look, feet]\n",
       "Name: comment_message, dtype: object"
      ]
     },
     "execution_count": 31,
     "metadata": {},
     "output_type": "execute_result"
    }
   ],
   "source": [
    "def preprocess(X):\n",
    "    #create english stop word list\n",
    "    en_stop = get_stop_words('en')\n",
    "    stemmer = PorterStemmer()\n",
    "    tokenize = TreebankWordTokenizer()\n",
    "    \n",
    "    \n",
    "    X = X.apply(lambda row: tokenize.tokenize(row)) # do tokenization\n",
    "    X = X.apply(lambda row: [i for i in row if i not in en_stop]) # remove english stop words\n",
    "    X = X.apply(lambda row :[i for i in row if i not in punctuation]) #remove punctuation\n",
    "    X = X.apply(lambda row:[stemmer.stem(word) for word in row])      # Stemming\n",
    "    return X\n",
    "\n",
    "X = preprocess(X)\n",
    "X"
   ]
  },
  {
   "cell_type": "markdown",
   "metadata": {},
   "source": [
    "## Visualize the Feature variables by using Word cloud\n",
    "\n",
    "WordClouds are a quick way to check the result of our preprocessing steps and debug them."
   ]
  },
  {
   "cell_type": "code",
   "execution_count": 32,
   "metadata": {
    "collapsed": false
   },
   "outputs": [
    {
     "data": {
      "image/png": "[encoded data removed]",
      "text/plain": [
       "<matplotlib.figure.Figure at 0x7f19c07b5d90>"
      ]
     },
     "metadata": {},
     "output_type": "display_data"
    }
   ],
   "source": [
    "def wordCloud(X):\n",
    "    text = []\n",
    "    for i in range(len(X)):\n",
    "        text = text + [i for i in X[i]]\n",
    "    textall = \" \".join(text)\n",
    "    wordcloud = WordCloud(max_font_size=100).generate(textall)\n",
    "    plt.figure(figsize=(10, 6))\n",
    "    plt.imshow(wordcloud, interpolation=\"bilinear\")\n",
    "    plt.axis(\"off\")\n",
    "    return plt.show()\n",
    "\n",
    "wordCloud(X)"
   ]
  },
  {
   "cell_type": "markdown",
   "metadata": {},
   "source": [
    "From the above word cloud , we can clearly see that maximum messages in the given text data contains 'thank', 'protect','apollo' etc words. So these are the maximum occuring words out of all the messages. So we can assume that given text data is related to appolo hospital and most of the pateint have given good review about the hospital( words like thank, good, nice happy, protect are clearly visible with large fonts). \n",
    "It is a power tool to visualize and understand our text data more clearly. We get a clear idea from it and now we will try to cluster the text."
   ]
  },
  {
   "cell_type": "markdown",
   "metadata": {},
   "source": [
    "## Creating Sparse matrix by using count vectorizer and TF-IDF vectorizer\n",
    "\n",
    "CountVectorizer is used to \"convert raw text into a matrix of token counts\" .\n"
   ]
  },
  {
   "cell_type": "code",
   "execution_count": 33,
   "metadata": {
    "collapsed": false
   },
   "outputs": [
    {
     "data": {
      "text/plain": [
       "(CountVectorizer(analyzer=u'word', binary=False, decode_error=u'strict',\n",
       "         dtype=<type 'numpy.int64'>, encoding=u'utf-8', input=u'content',\n",
       "         lowercase=True, max_df=0.5, max_features=None, min_df=2,\n",
       "         ngram_range=(1, 2), preprocessor=None, stop_words=None,\n",
       "         strip_accents=None, token_pattern=u'(?u)\\\\b\\\\w\\\\w+\\\\b',\n",
       "         tokenizer=None, vocabulary=None),\n",
       " <5334x5952 sparse matrix of type '<type 'numpy.int64'>'\n",
       " \twith 40597 stored elements in Compressed Sparse Row format>)"
      ]
     },
     "execution_count": 33,
     "metadata": {},
     "output_type": "execute_result"
    }
   ],
   "source": [
    "def count_vector(X):\n",
    "    vect = CountVectorizer(ngram_range=(1, 2), min_df=2, max_df=0.5)\n",
    "    X = pd.Series([' '.join(x) for x in X])\n",
    "    train_dtm = vect.fit_transform(X)\n",
    "    return vect, train_dtm\n",
    "\n",
    "count_vector(X)\n"
   ]
  },
  {
   "cell_type": "code",
   "execution_count": 34,
   "metadata": {
    "collapsed": false
   },
   "outputs": [],
   "source": [
    "vect, x_dtm = count_vector(X)"
   ]
  },
  {
   "cell_type": "code",
   "execution_count": 35,
   "metadata": {
    "collapsed": false
   },
   "outputs": [
    {
     "data": {
      "text/plain": [
       "<5334x5952 sparse matrix of type '<type 'numpy.int64'>'\n",
       "\twith 40597 stored elements in Compressed Sparse Row format>"
      ]
     },
     "execution_count": 35,
     "metadata": {},
     "output_type": "execute_result"
    }
   ],
   "source": [
    "x_dtm"
   ]
  },
  {
   "cell_type": "code",
   "execution_count": 36,
   "metadata": {
    "collapsed": false
   },
   "outputs": [
    {
     "data": {
      "text/plain": [
       "(CountVectorizer(analyzer=u'word', binary=False, decode_error=u'strict',\n",
       "         dtype=<type 'numpy.int64'>, encoding=u'utf-8', input=u'content',\n",
       "         lowercase=True, max_df=0.5, max_features=None, min_df=2,\n",
       "         ngram_range=(1, 2), preprocessor=None, stop_words=None,\n",
       "         strip_accents=None, token_pattern=u'(?u)\\\\b\\\\w\\\\w+\\\\b',\n",
       "         tokenizer=None, vocabulary=None),\n",
       " <5334x5952 sparse matrix of type '<type 'numpy.int64'>'\n",
       " \twith 40597 stored elements in Compressed Sparse Row format>)"
      ]
     },
     "execution_count": 36,
     "metadata": {},
     "output_type": "execute_result"
    }
   ],
   "source": [
    "def tfidf_vector(X):\n",
    "    vect = CountVectorizer(ngram_range=(1, 2), min_df=2, max_df=0.5)\n",
    "    X = pd.Series([' '.join(x) for x in X])\n",
    "    train_dtm = vect.fit_transform(X)\n",
    "    return vect, train_dtm\n",
    "\n",
    "tfidf_vector(X)"
   ]
  },
  {
   "cell_type": "code",
   "execution_count": 37,
   "metadata": {
    "collapsed": true
   },
   "outputs": [],
   "source": [
    "vect, X_tfidf = tfidf_vector(X) "
   ]
  },
  {
   "cell_type": "code",
   "execution_count": 38,
   "metadata": {
    "collapsed": false
   },
   "outputs": [
    {
     "data": {
      "text/plain": [
       "<5334x5952 sparse matrix of type '<type 'numpy.int64'>'\n",
       "\twith 40597 stored elements in Compressed Sparse Row format>"
      ]
     },
     "execution_count": 38,
     "metadata": {},
     "output_type": "execute_result"
    }
   ],
   "source": [
    "X_tfidf"
   ]
  },
  {
   "cell_type": "markdown",
   "metadata": {},
   "source": [
    "## Using K-Means Clustering"
   ]
  },
  {
   "cell_type": "code",
   "execution_count": 39,
   "metadata": {
    "collapsed": false
   },
   "outputs": [
    {
     "data": {
      "text/plain": [
       "KMeans(algorithm='auto', copy_x=True, init='k-means++', max_iter=300,\n",
       "    n_clusters=10, n_init=1, n_jobs=1, precompute_distances='auto',\n",
       "    random_state=None, tol=0.0001, verbose=0)"
      ]
     },
     "execution_count": 39,
     "metadata": {},
     "output_type": "execute_result"
    }
   ],
   "source": [
    "from sklearn.cluster import KMeans\n",
    "\n",
    "num_clusters = 10\n",
    "\n",
    "model = KMeans(n_clusters= num_clusters, init='k-means++',n_init=1)\n",
    "model.fit(x_dtm)"
   ]
  },
  {
   "cell_type": "code",
   "execution_count": 47,
   "metadata": {
    "collapsed": false
   },
   "outputs": [
    {
     "name": "stdout",
     "output_type": "stream",
     "text": [
      "Top words per cluster:\n",
      "Cluster 0:  sri  india  ganesh  jai  lord  lord ganesh  2016  on  jai unit  holi\n",
      "Cluster 1:  apollo  all  happi  hospit  thank  good  sir  nice  month  sun\n",
      "Cluster 2:  id  app  champcash  instal  app instal  level  incom  challeng  join  incom upto\n",
      "Cluster 3:  member  level  level member  app  signup  id  10  25  member 25  member 10\n",
      "Cluster 4:  inform  room  taken  jan  till  complain  patient  day  hospit  16\n",
      "Cluster 5:  hospit  mitra  apollo  bill  com  patient  2016  receipt  mail  email\n",
      "Cluster 6:  hospit  mitra  apollo  bill  com  2016  mail  receipt  busi  ni\n",
      "Cluster 7:  page  like  like page  facebook  to  link  get  www facebook  www  facebook com\n",
      "Cluster 8:  work  onlin  id  instal  sponsor  n5  n1  app  complet  start\n",
      "Cluster 9:  91  vashikaran  problem  love  specialist  wife  prakash  get  whatsapp  whatsapp 91\n"
     ]
    }
   ],
   "source": [
    "#Making 10 clusters \n",
    "\n",
    "print(\"Top words per cluster:\")\n",
    "order_centroids = model.cluster_centers_.argsort()[:, ::-1]\n",
    "terms = vect.get_feature_names()\n",
    "for i in range(num_clusters):\n",
    "    print(\"Cluster %d:\" % i),\n",
    "    for ind in order_centroids[i, :10]:\n",
    "        print(' %s' % terms[ind]),\n",
    "    print"
   ]
  },
  {
   "cell_type": "markdown",
   "metadata": {},
   "source": [
    "### Trying to make some prediction and identify to which cluster the message belongs"
   ]
  },
  {
   "cell_type": "code",
   "execution_count": 53,
   "metadata": {
    "collapsed": false
   },
   "outputs": [
    {
     "name": "stdout",
     "output_type": "stream",
     "text": [
      "Prediction\n",
      "[1]\n"
     ]
    }
   ],
   "source": [
    "print(\"Prediction\")\n",
    " \n",
    "Y = vect.transform([\"apollo is a good hospital\"])\n",
    "prediction = model.predict(Y)\n",
    "print(prediction)"
   ]
  },
  {
   "cell_type": "code",
   "execution_count": null,
   "metadata": {
    "collapsed": true
   },
   "outputs": [],
   "source": []
  }
 ],
 "metadata": {
  "kernelspec": {
   "display_name": "Python 2",
   "language": "python",
   "name": "python2"
  },
  "language_info": {
   "codemirror_mode": {
    "name": "ipython",
    "version": 2
   },
   "file_extension": ".py",
   "mimetype": "text/x-python",
   "name": "python",
   "nbconvert_exporter": "python",
   "pygments_lexer": "ipython2",
   "version": "2.7.13"
  }
 },
 "nbformat": 4,
 "nbformat_minor": 2
}
